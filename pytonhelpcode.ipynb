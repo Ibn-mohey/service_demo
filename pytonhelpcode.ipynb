{
 "cells": [
  {
   "cell_type": "code",
   "execution_count": 47,
   "metadata": {},
   "outputs": [
    {
     "data": {
      "text/plain": [
       "{'org1pack1': ['monasba ', 'package 1 ', 2000, 'org1.png'],\n",
       " 'org1pack2': ['monasba ', 'package 2 ', 3000, 'org1.png'],\n",
       " 'org2pack1': ['candor', 'package 1 ', 1500, 'org2.png'],\n",
       " 'org2pack2': ['candor', 'package 2 ', 2200, 'org2.png'],\n",
       " 'org3pack1': ['planiro', 'package 1 ', 1700, 'org3.png'],\n",
       " 'org3pack2': ['planiro', 'package 2 ', 2700, 'org3.png']}"
      ]
     },
     "execution_count": 47,
     "metadata": {},
     "output_type": "execute_result"
    }
   ],
   "source": [
    "text = \"\"\"monasba \tpackage 1 \t2000\torg1.png\torg1pack1\n",
    "monasba \tpackage 2 \t3000\torg1.png\torg1pack2\n",
    "candor\tpackage 1 \t1500\torg2.png\torg2pack1\n",
    "candor\tpackage 2 \t2200\torg2.png\torg2pack2\n",
    "planiro\tpackage 1 \t1700\torg3.png\torg3pack1\n",
    "planiro\tpackage 2 \t2700\torg3.png\torg3pack2\"\"\"\n",
    "lines = text.split('\\n')\n",
    "dic = {}\n",
    "for line in lines:\n",
    "  data = line.split('\\t')\n",
    "  data[2] = int(data[2])\n",
    "  dic[data[-1]] = data[:-1]\n",
    "\n",
    "dic"
   ]
  },
  {
   "cell_type": "code",
   "execution_count": 26,
   "metadata": {},
   "outputs": [
    {
     "data": {
      "text/plain": [
       "['f1p1', '\"200 جاتوه']"
      ]
     },
     "execution_count": 26,
     "metadata": {},
     "output_type": "execute_result"
    }
   ],
   "source": [
    "line.split('\\t')"
   ]
  },
  {
   "cell_type": "code",
   "execution_count": 61,
   "metadata": {},
   "outputs": [
    {
     "data": {
      "text/plain": [
       "['200 جاتوه\\n1 كعك ',\n",
       " '\\n100 جاتوه\\n1 كعك ',\n",
       " '\\n100 جاتوه\\n1 كعك ',\n",
       " '\\n3 جاتوه\\n3 كعك ',\n",
       " '\\n3 جاتوه\\n3 كعك ',\n",
       " '\\n3 جاتوه\\n3 كعك ']"
      ]
     },
     "execution_count": 61,
     "metadata": {},
     "output_type": "execute_result"
    }
   ],
   "source": []
  },
  {
   "cell_type": "code",
   "execution_count": 64,
   "metadata": {},
   "outputs": [],
   "source": [
    "kys  = \"\"\"f1p1\n",
    "f1p2\n",
    "f2p1\n",
    "f2p2\n",
    "f3p1\n",
    "f3p2\"\"\".split('\\n')\n",
    "data1 = \"\"\"200 جاتوه\n",
    "1 كعك newline\n",
    "100 جاتوه\n",
    "1 كعك newline\n",
    "100 جاتوه\n",
    "1 كعك newline\n",
    "3 جاتوه\n",
    "3 كعك newline\n",
    "3 جاتوه\n",
    "3 كعك newline\n",
    "3 جاتوه\n",
    "3 كعك \"\"\".split('newline')\n",
    "\n",
    "data2 =\"\"\"2000\n",
    "1200\n",
    "720\n",
    "720\n",
    "720\n",
    "720\"\"\".split('\\n')\n",
    "\n",
    "data3 = \"\"\"image1.png\n",
    "image1.png\n",
    "image2.png\n",
    "image2.png\n",
    "image3.png\n",
    "image3.png\"\"\".split('\\n')\n",
    "data4 = \"\"\"la poire\n",
    "la poire\n",
    "monginis\n",
    "monginis\n",
    "sale sucre\n",
    "sale sucre\"\"\".split('\\n')"
   ]
  },
  {
   "cell_type": "code",
   "execution_count": 65,
   "metadata": {},
   "outputs": [
    {
     "data": {
      "text/plain": [
       "{'f1p1': ['200 جاتوه\\n1 كعك ', 2000, 'image1.png', 'la poire'],\n",
       " 'f1p2': ['\\n100 جاتوه\\n1 كعك ', 1200, 'image1.png', 'la poire'],\n",
       " 'f2p1': ['\\n100 جاتوه\\n1 كعك ', 720, 'image2.png', 'monginis'],\n",
       " 'f2p2': ['\\n3 جاتوه\\n3 كعك ', 720, 'image2.png', 'monginis']}"
      ]
     },
     "execution_count": 65,
     "metadata": {},
     "output_type": "execute_result"
    }
   ],
   "source": [
    "dic = {}\n",
    "for i in range(4):\n",
    "    dic[kys[i]] = [data1[i],int(data2[i]),data3[i],data4[i]]\n",
    "    # print(i)\n",
    "dic"
   ]
  },
  {
   "cell_type": "code",
   "execution_count": 60,
   "metadata": {},
   "outputs": [
    {
     "data": {
      "text/plain": [
       "2000"
      ]
     },
     "execution_count": 60,
     "metadata": {},
     "output_type": "execute_result"
    }
   ],
   "source": [
    "dic['f1p1'][1]"
   ]
  },
  {
   "cell_type": "code",
   "execution_count": 3,
   "metadata": {},
   "outputs": [
    {
     "data": {
      "text/plain": [
       "['حجز أماكن المناسبات الخاصة',\n",
       " 'خدمة النقل الذكي',\n",
       " 'تسجيل الشكاوى في الأماكن العامة',\n",
       " 'مواقف السيارات الذكية العامة أو مواقف السيارات الذكية المخصصة',\n",
       " 'خدمة صيانة الممتلكات',\n",
       " 'تحصيل الإيجار',\n",
       " 'خدمات الدفع لجميع الخدمات الأساسية والإضافية']"
      ]
     },
     "execution_count": 3,
     "metadata": {},
     "output_type": "execute_result"
    }
   ],
   "source": [
    "ss = \"\"\"حجز أماكن المناسبات الخاصة\n",
    "خدمة النقل الذكي\n",
    "تسجيل الشكاوى في الأماكن العامة\n",
    "مواقف السيارات الذكية العامة أو مواقف السيارات الذكية المخصصة\n",
    "خدمة صيانة الممتلكات\n",
    "تحصيل الإيجار\n",
    "خدمات الدفع لجميع الخدمات الأساسية والإضافية\"\"\".split('\\n')\n",
    "ss"
   ]
  },
  {
   "cell_type": "code",
   "execution_count": 5,
   "metadata": {},
   "outputs": [
    {
     "name": "stdout",
     "output_type": "stream",
     "text": [
      "<li class=\"menu-item\" aria-haspopup=\"true\">\n",
      "                        <a href=\"/\" class=\"menu-link\">\n",
      "                          <span class=\"svg-icon menu-icon\">\n",
      "\n",
      "                          </span>\n",
      "                          <span class=\"menu-text font-weight-bolder\"\n",
      "                            >حجز أماكن المناسبات الخاصة</span\n",
      "                          >\n",
      "                        </a>\n",
      "                      </li>\n",
      "<li class=\"menu-item\" aria-haspopup=\"true\">\n",
      "                        <a href=\"/\" class=\"menu-link\">\n",
      "                          <span class=\"svg-icon menu-icon\">\n",
      "\n",
      "                          </span>\n",
      "                          <span class=\"menu-text font-weight-bolder\"\n",
      "                            >خدمة النقل الذكي</span\n",
      "                          >\n",
      "                        </a>\n",
      "                      </li>\n",
      "<li class=\"menu-item\" aria-haspopup=\"true\">\n",
      "                        <a href=\"/\" class=\"menu-link\">\n",
      "                          <span class=\"svg-icon menu-icon\">\n",
      "\n",
      "                          </span>\n",
      "                          <span class=\"menu-text font-weight-bolder\"\n",
      "                            >تسجيل الشكاوى في الأماكن العامة</span\n",
      "                          >\n",
      "                        </a>\n",
      "                      </li>\n",
      "<li class=\"menu-item\" aria-haspopup=\"true\">\n",
      "                        <a href=\"/\" class=\"menu-link\">\n",
      "                          <span class=\"svg-icon menu-icon\">\n",
      "\n",
      "                          </span>\n",
      "                          <span class=\"menu-text font-weight-bolder\"\n",
      "                            >مواقف السيارات الذكية العامة أو مواقف السيارات الذكية المخصصة</span\n",
      "                          >\n",
      "                        </a>\n",
      "                      </li>\n",
      "<li class=\"menu-item\" aria-haspopup=\"true\">\n",
      "                        <a href=\"/\" class=\"menu-link\">\n",
      "                          <span class=\"svg-icon menu-icon\">\n",
      "\n",
      "                          </span>\n",
      "                          <span class=\"menu-text font-weight-bolder\"\n",
      "                            >خدمة صيانة الممتلكات</span\n",
      "                          >\n",
      "                        </a>\n",
      "                      </li>\n",
      "<li class=\"menu-item\" aria-haspopup=\"true\">\n",
      "                        <a href=\"/\" class=\"menu-link\">\n",
      "                          <span class=\"svg-icon menu-icon\">\n",
      "\n",
      "                          </span>\n",
      "                          <span class=\"menu-text font-weight-bolder\"\n",
      "                            >تحصيل الإيجار</span\n",
      "                          >\n",
      "                        </a>\n",
      "                      </li>\n",
      "<li class=\"menu-item\" aria-haspopup=\"true\">\n",
      "                        <a href=\"/\" class=\"menu-link\">\n",
      "                          <span class=\"svg-icon menu-icon\">\n",
      "\n",
      "                          </span>\n",
      "                          <span class=\"menu-text font-weight-bolder\"\n",
      "                            >خدمات الدفع لجميع الخدمات الأساسية والإضافية</span\n",
      "                          >\n",
      "                        </a>\n",
      "                      </li>\n"
     ]
    }
   ],
   "source": [
    "for Service in ss:\n",
    "    # print(Service)\n",
    "    text = f\"\"\"<li class=\"menu-item\" aria-haspopup=\"true\">\n",
    "                        <a href=\"/\" class=\"menu-link\">\n",
    "                          <span class=\"svg-icon menu-icon\">\n",
    "\n",
    "                          </span>\n",
    "                          <span class=\"menu-text font-weight-bolder\"\n",
    "                            >{Service}</span\n",
    "                          >\n",
    "                        </a>\n",
    "                      </li>\"\"\"\n",
    "    print(text)"
   ]
  },
  {
   "cell_type": "code",
   "execution_count": 2,
   "metadata": {},
   "outputs": [],
   "source": [
    "dic = {'event_planner_id': 'org2pack2', 'catering_id': 'f2p2', 'category': 'فرح', 'indoor': 'مفتوح', 'time': '2023-11-02T09:57', 'n_of_attendees': '22', 'venue_id': 'h1'}\n",
    "dic['acud_id'] = 10\n",
    "dic['description'] = 'empty'\n"
   ]
  },
  {
   "cell_type": "code",
   "execution_count": 5,
   "metadata": {},
   "outputs": [
    {
     "ename": "KeyError",
     "evalue": "'key'",
     "output_type": "error",
     "traceback": [
      "\u001b[1;31m---------------------------------------------------------------------------\u001b[0m",
      "\u001b[1;31mKeyError\u001b[0m                                  Traceback (most recent call last)",
      "Cell \u001b[1;32mIn[5], line 1\u001b[0m\n\u001b[1;32m----> 1\u001b[0m \u001b[39mdel\u001b[39;00m dic[\u001b[39m'\u001b[39;49m\u001b[39mkey\u001b[39;49m\u001b[39m'\u001b[39;49m]\n",
      "\u001b[1;31mKeyError\u001b[0m: 'key'"
     ]
    }
   ],
   "source": [
    "del dic['key']"
   ]
  },
  {
   "cell_type": "code",
   "execution_count": 4,
   "metadata": {},
   "outputs": [],
   "source": [
    "import sqlite3\n",
    "\n",
    "conn = sqlite3.connect('./instance/database.db')\n",
    "cursor = conn.cursor()\n",
    "\n",
    "sql = f\"\"\"\n",
    "    insert into events \n",
    "    {tuple(dic.keys())}\n",
    "    Values \n",
    "    {tuple(dic.values())};\n",
    "    \"\"\"\n",
    "#(?,?,?,?,?,?,?,?,?,?,?,?,?,?)\n",
    "# data = tuple([search_term,state,leatest_added])\n",
    "cursor.execute(sql)\n",
    "conn.commit()\n",
    "conn.close()\n"
   ]
  },
  {
   "cell_type": "code",
   "execution_count": 3,
   "metadata": {},
   "outputs": [
    {
     "name": "stdout",
     "output_type": "stream",
     "text": [
      "[(1, '1', 'فرح', '2023-11-22T18:18', 'h1', None, 100, 'مفتوح', 'f1p1', 'org1pack1')]\n"
     ]
    }
   ],
   "source": [
    "import sqlite3\n",
    "conn = sqlite3.connect('./instance/database.db')\n",
    "cursor = conn.cursor()\n",
    "sql = f\"\"\"select * from events where acud_id = 1\n",
    "\"\"\"\n",
    "\n",
    "try:\n",
    "    cursor.execute(sql)\n",
    "    data = cursor.fetchall()\n",
    "except Exception as e:\n",
    "    print(e)\n",
    "    # pass\n",
    "print(data)\n",
    "conn.close()"
   ]
  },
  {
   "cell_type": "code",
   "execution_count": 1,
   "metadata": {},
   "outputs": [],
   "source": [
    "from flask import Flask, render_template, request, jsonify, url_for\n",
    "from flask import (\n",
    "    Flask,\n",
    "    render_template,\n",
    "    redirect,\n",
    "    flash,\n",
    "    url_for,\n",
    "    session\n",
    ")\n",
    "\n",
    "from datetime import timedelta\n",
    "from sqlalchemy.exc import (\n",
    "    IntegrityError,\n",
    "    DataError,\n",
    "    DatabaseError,\n",
    "    InterfaceError,\n",
    "    InvalidRequestError,\n",
    ")\n",
    "from werkzeug.routing import BuildError\n",
    "\n",
    "\n",
    "from flask_bcrypt import Bcrypt,generate_password_hash, check_password_hash\n",
    "\n",
    "from flask_login import (\n",
    "    UserMixin,\n",
    "    login_user,\n",
    "    LoginManager,\n",
    "    current_user,\n",
    "    logout_user,\n",
    "    login_required,\n",
    ")\n",
    "\n",
    "from app import create_app,db,login_manager,bcrypt\n",
    "# from models import User\n",
    "# from forms import login_form,register_form\n"
   ]
  },
  {
   "cell_type": "code",
   "execution_count": 22,
   "metadata": {},
   "outputs": [],
   "source": [
    "from sqlalchemy import create_engine\n",
    "import pandas as pd\n",
    "engine = create_engine(\"sqlite:///./instance/database.db\", echo=True)\n",
    "# pd.read_sql('select * from user',engine)\n"
   ]
  },
  {
   "cell_type": "code",
   "execution_count": null,
   "metadata": {},
   "outputs": [],
   "source": [
    "from app import db\n",
    "from flask_login import UserMixin\n",
    "\n",
    "class User(db.Model):\n",
    "    __tablename__ = \"user\"\n",
    "    \n",
    "    id = db.Column(db.Integer, primary_key=True)\n",
    "    username = db.Column(db.String(80), unique=True, nullable=False)\n",
    "    email = db.Column(db.String(120), unique=True, nullable=False)\n",
    "    pwd = db.Column(db.String(300), nullable=False, unique=True)\n",
    "\n",
    "    def __repr__(self):\n",
    "        return '<User %r>' % self.username\n",
    "    \n",
    "class Event(db.Model):\n",
    "    __tablename__ = \"events\"\n",
    "    \n",
    "    event_id = db.Column( db.Integer,  primary_key=True)\n",
    "    acud_id = db.Column( db.String(80),  nullable=False)\n",
    "    category  = db.Column( db.String(80),  nullable=False)\n",
    "    time = db.Column( db.String(80),  nullable=False)\n",
    "    venue_id = db.Column( db.String(80),  nullable=False)\n",
    "    description = db.Column( db.String(150),  nullable=False)\n",
    "    n_of_attendees  = db.Column( db.Integer,  nullable=False)\n",
    "    indoor = db.Column( db.Integer,  nullable=False)\n",
    "    catering_id = db.Column( db.Integer,  nullable=False)\n",
    "    event_planner_id = db.Column( db.Integer,  nullable=False)\n",
    "\n",
    "    # def __repr__(self):\n",
    "    #     return '<User %r>' % self.username"
   ]
  },
  {
   "cell_type": "code",
   "execution_count": null,
   "metadata": {},
   "outputs": [],
   "source": []
  },
  {
   "cell_type": "code",
   "execution_count": 11,
   "metadata": {},
   "outputs": [],
   "source": []
  }
 ],
 "metadata": {
  "kernelspec": {
   "display_name": "Python 3",
   "language": "python",
   "name": "python3"
  },
  "language_info": {
   "codemirror_mode": {
    "name": "ipython",
    "version": 3
   },
   "file_extension": ".py",
   "mimetype": "text/x-python",
   "name": "python",
   "nbconvert_exporter": "python",
   "pygments_lexer": "ipython3",
   "version": "3.12.0"
  },
  "orig_nbformat": 4
 },
 "nbformat": 4,
 "nbformat_minor": 2
}
