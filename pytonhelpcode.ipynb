{
 "cells": [
  {
   "cell_type": "code",
   "execution_count": 4,
   "metadata": {},
   "outputs": [],
   "source": [
    "Service = 'ss'\n",
    "text = f\"\"\"                      <li class=\"menu-item\" aria-haspopup=\"true\">\n",
    "                        <a href=\"/{service}/\" class=\"menu-link\">\n",
    "                          <span class=\"svg-icon menu-icon\"> </span>\n",
    "                          <span class=\"menu-text font-weight-bolder\"\n",
    "                            >{Service}</span\n",
    "                          >\n",
    "                        </a>\n",
    "                      </li>\"\"\""
   ]
  },
  {
   "cell_type": "code",
   "execution_count": 11,
   "metadata": {},
   "outputs": [
    {
     "data": {
      "text/plain": [
       "['حجز أماكن المناسبات الخاصة',\n",
       " 'خدمة النقل الذكي',\n",
       " 'تسجيل الشكاوى في الأماكن العامة',\n",
       " 'مواقف السيارات الذكية العامة أو مواقف السيارات الذكية المخصصة',\n",
       " 'خدمة صيانة الممتلكات',\n",
       " 'تحصيل الإيجار',\n",
       " 'خدمات الدفع لجميع الخدمات الأساسية والإضافية']"
      ]
     },
     "execution_count": 11,
     "metadata": {},
     "output_type": "execute_result"
    }
   ],
   "source": [
    "ss = \"\"\"حجز أماكن المناسبات الخاصة\n",
    "خدمة النقل الذكي\n",
    "تسجيل الشكاوى في الأماكن العامة\n",
    "مواقف السيارات الذكية العامة أو مواقف السيارات الذكية المخصصة\n",
    "خدمة صيانة الممتلكات\n",
    "تحصيل الإيجار\n",
    "خدمات الدفع لجميع الخدمات الأساسية والإضافية\"\"\".split('\\n')\n",
    "ss"
   ]
  },
  {
   "cell_type": "code",
   "execution_count": 16,
   "metadata": {},
   "outputs": [
    {
     "name": "stdout",
     "output_type": "stream",
     "text": [
      "                      <li class=\"menu-item\" aria-haspopup=\"true\">\n",
      "                        <a href=\"/\" class=\"menu-link\">\n",
      "                          <span class=\"svg-icon menu-icon\"> </span>\n",
      "                          <span class=\"menu-text font-weight-bolder\"\n",
      "                            >حجز أماكن المناسبات الخاصة</span\n",
      "                          >\n",
      "                        </a>\n",
      "                      </li>\n",
      "                      <li class=\"menu-item\" aria-haspopup=\"true\">\n",
      "                        <a href=\"/\" class=\"menu-link\">\n",
      "                          <span class=\"svg-icon menu-icon\"> </span>\n",
      "                          <span class=\"menu-text font-weight-bolder\"\n",
      "                            >خدمة النقل الذكي</span\n",
      "                          >\n",
      "                        </a>\n",
      "                      </li>\n",
      "                      <li class=\"menu-item\" aria-haspopup=\"true\">\n",
      "                        <a href=\"/\" class=\"menu-link\">\n",
      "                          <span class=\"svg-icon menu-icon\"> </span>\n",
      "                          <span class=\"menu-text font-weight-bolder\"\n",
      "                            >تسجيل الشكاوى في الأماكن العامة</span\n",
      "                          >\n",
      "                        </a>\n",
      "                      </li>\n",
      "                      <li class=\"menu-item\" aria-haspopup=\"true\">\n",
      "                        <a href=\"/\" class=\"menu-link\">\n",
      "                          <span class=\"svg-icon menu-icon\"> </span>\n",
      "                          <span class=\"menu-text font-weight-bolder\"\n",
      "                            >مواقف السيارات الذكية العامة أو مواقف السيارات الذكية المخصصة</span\n",
      "                          >\n",
      "                        </a>\n",
      "                      </li>\n",
      "                      <li class=\"menu-item\" aria-haspopup=\"true\">\n",
      "                        <a href=\"/\" class=\"menu-link\">\n",
      "                          <span class=\"svg-icon menu-icon\"> </span>\n",
      "                          <span class=\"menu-text font-weight-bolder\"\n",
      "                            >خدمة صيانة الممتلكات</span\n",
      "                          >\n",
      "                        </a>\n",
      "                      </li>\n",
      "                      <li class=\"menu-item\" aria-haspopup=\"true\">\n",
      "                        <a href=\"/\" class=\"menu-link\">\n",
      "                          <span class=\"svg-icon menu-icon\"> </span>\n",
      "                          <span class=\"menu-text font-weight-bolder\"\n",
      "                            >تحصيل الإيجار</span\n",
      "                          >\n",
      "                        </a>\n",
      "                      </li>\n",
      "                      <li class=\"menu-item\" aria-haspopup=\"true\">\n",
      "                        <a href=\"/\" class=\"menu-link\">\n",
      "                          <span class=\"svg-icon menu-icon\"> </span>\n",
      "                          <span class=\"menu-text font-weight-bolder\"\n",
      "                            >خدمات الدفع لجميع الخدمات الأساسية والإضافية</span\n",
      "                          >\n",
      "                        </a>\n",
      "                      </li>\n"
     ]
    }
   ],
   "source": [
    "for Service in ss:\n",
    "    # print(Service)\n",
    "    print(f\"\"\"                      <li class=\"menu-item\" aria-haspopup=\"true\">\n",
    "                        <a href=\"/\" class=\"menu-link\">\n",
    "                          <span class=\"svg-icon menu-icon\"> </span>\n",
    "                          <span class=\"menu-text font-weight-bolder\"\n",
    "                            >{Service}</span\n",
    "                          >\n",
    "                        </a>\n",
    "                      </li>\"\"\")"
   ]
  },
  {
   "cell_type": "code",
   "execution_count": 1,
   "metadata": {},
   "outputs": [],
   "source": [
    "from flask import Flask, render_template, request, jsonify, url_for\n",
    "from flask import (\n",
    "    Flask,\n",
    "    render_template,\n",
    "    redirect,\n",
    "    flash,\n",
    "    url_for,\n",
    "    session\n",
    ")\n",
    "\n",
    "from datetime import timedelta\n",
    "from sqlalchemy.exc import (\n",
    "    IntegrityError,\n",
    "    DataError,\n",
    "    DatabaseError,\n",
    "    InterfaceError,\n",
    "    InvalidRequestError,\n",
    ")\n",
    "from werkzeug.routing import BuildError\n",
    "\n",
    "\n",
    "from flask_bcrypt import Bcrypt,generate_password_hash, check_password_hash\n",
    "\n",
    "from flask_login import (\n",
    "    UserMixin,\n",
    "    login_user,\n",
    "    LoginManager,\n",
    "    current_user,\n",
    "    logout_user,\n",
    "    login_required,\n",
    ")\n",
    "\n",
    "from app import create_app,db,login_manager,bcrypt\n",
    "# from models import User\n",
    "# from forms import login_form,register_form\n"
   ]
  },
  {
   "cell_type": "code",
   "execution_count": 22,
   "metadata": {},
   "outputs": [],
   "source": [
    "from sqlalchemy import create_engine\n",
    "import pandas as pd\n",
    "engine = create_engine(\"sqlite:///./instance/database.db\", echo=True)\n",
    "# pd.read_sql('select * from user',engine)\n"
   ]
  },
  {
   "cell_type": "code",
   "execution_count": null,
   "metadata": {},
   "outputs": [],
   "source": [
    "from app import db\n",
    "from flask_login import UserMixin\n",
    "\n",
    "class User(db.Model):\n",
    "    __tablename__ = \"user\"\n",
    "    \n",
    "    id = db.Column(db.Integer, primary_key=True)\n",
    "    username = db.Column(db.String(80), unique=True, nullable=False)\n",
    "    email = db.Column(db.String(120), unique=True, nullable=False)\n",
    "    pwd = db.Column(db.String(300), nullable=False, unique=True)\n",
    "\n",
    "    def __repr__(self):\n",
    "        return '<User %r>' % self.username\n",
    "    \n",
    "class Event(db.Model):\n",
    "    __tablename__ = \"events\"\n",
    "    \n",
    "    event_id = db.Column( db.Integer,  primary_key=True)\n",
    "    acud_id = db.Column( db.String(80),  nullable=False)\n",
    "    category  = db.Column( db.String(80),  nullable=False)\n",
    "    time = db.Column( db.String(80),  nullable=False)\n",
    "    venue_id = db.Column( db.String(80),  nullable=False)\n",
    "    description = db.Column( db.String(150),  nullable=False)\n",
    "    n_of_attendees  = db.Column( db.Integer,  nullable=False)\n",
    "    indoor = db.Column( db.Integer,  nullable=False)\n",
    "    catering_id = db.Column( db.Integer,  nullable=False)\n",
    "    event_planner_id = db.Column( db.Integer,  nullable=False)\n",
    "\n",
    "    # def __repr__(self):\n",
    "    #     return '<User %r>' % self.username"
   ]
  },
  {
   "cell_type": "code",
   "execution_count": null,
   "metadata": {},
   "outputs": [],
   "source": []
  },
  {
   "cell_type": "code",
   "execution_count": 11,
   "metadata": {},
   "outputs": [],
   "source": []
  }
 ],
 "metadata": {
  "kernelspec": {
   "display_name": "Python 3",
   "language": "python",
   "name": "python3"
  },
  "language_info": {
   "codemirror_mode": {
    "name": "ipython",
    "version": 3
   },
   "file_extension": ".py",
   "mimetype": "text/x-python",
   "name": "python",
   "nbconvert_exporter": "python",
   "pygments_lexer": "ipython3",
   "version": "3.12.0"
  },
  "orig_nbformat": 4
 },
 "nbformat": 4,
 "nbformat_minor": 2
}
